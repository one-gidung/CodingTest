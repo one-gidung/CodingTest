{
 "cells": [
  {
   "cell_type": "markdown",
   "id": "404cc45f",
   "metadata": {},
   "source": [
    "예제 입력 1 예제 출력 1 \\\n",
    "55-50+40       -35\\\n",
    "\\\n",
    "예제 입력 2 예제 출력 2 \\\n",
    "10+20+30+40    100\\\n",
    "\\\n",
    "예제 입력 3 예제 출력 3 \\\n",
    "00009-00009    0"
   ]
  },
  {
   "cell_type": "markdown",
   "id": "5c9c8e8e",
   "metadata": {},
   "source": [
    "0. -부호를 만나면\n",
    "1. 그 다음 -부호를 만나기까지를 전부 더해서 빼주면 된다.\n",
    "2. 그 다음 -부호가 없다면 그냥 다 더해서 뺀다.\n",
    "\n",
    "애초에 식에 -부호가 없으면 그냥 다 더하면 되고."
   ]
  },
  {
   "cell_type": "code",
   "execution_count": 19,
   "id": "26dfc192",
   "metadata": {},
   "outputs": [
    {
     "name": "stdout",
     "output_type": "stream",
     "text": [
      "55-50+40\n",
      "-35\n"
     ]
    }
   ],
   "source": [
    "a = input().split('-')\n",
    "s = 0\n",
    "for i in a[0].split('+'):\n",
    "    s += int(i)\n",
    "for i in a[1:]:\n",
    "    for j in i.split('+'):\n",
    "        s -= int(j)\n",
    "print(s)"
   ]
  },
  {
   "cell_type": "code",
   "execution_count": null,
   "id": "e7125c72",
   "metadata": {},
   "outputs": [],
   "source": [
    "# - 기준으로 split\n",
    "exp = input().split('-')\n",
    "# len이 1이면 -는 없다고 판단\n",
    "if len(exp) == 1:\n",
    "    ans = sum(map(int, exp.split('+')))\n",
    "# len 2이상이면 -부호 존재\n",
    "else:\n",
    "# +기준으로 split\n",
    "    for i in range():\n",
    "        exp.split('+')\n",
    "# 각 값을 빼줌\n",
    "oper = re.sub('[0-9]', ' ', exp).split()\n",
    "nums = list(map(int, re.sub('[+|-]', ' ', exp).split()))\n",
    "\n",
    "# -부호가 없을 때\n",
    "if '-' not in oper:\n",
    "    sum(nums)\n",
    "\n",
    "# -부호가 있을 때\n",
    "else:\n",
    "    "
   ]
  }
 ],
 "metadata": {
  "kernelspec": {
   "display_name": "Python 3 (ipykernel)",
   "language": "python",
   "name": "python3"
  },
  "language_info": {
   "codemirror_mode": {
    "name": "ipython",
    "version": 3
   },
   "file_extension": ".py",
   "mimetype": "text/x-python",
   "name": "python",
   "nbconvert_exporter": "python",
   "pygments_lexer": "ipython3",
   "version": "3.9.7"
  }
 },
 "nbformat": 4,
 "nbformat_minor": 5
}
