{
 "cells": [
  {
   "cell_type": "code",
   "execution_count": null,
   "id": "7a949876-54f4-4de5-9f1a-a5e98f7ea67b",
   "metadata": {},
   "outputs": [],
   "source": []
  }
 ],
 "metadata": {
  "kernelspec": {
   "display_name": "",
   "name": ""
  },
  "language_info": {
   "name": ""
  }
 },
 "nbformat": 4,
 "nbformat_minor": 5
}
