{
 "cells": [
  {
   "cell_type": "code",
   "execution_count": null,
   "id": "6f463b63-2f19-4535-b1b7-72a6af726e80",
   "metadata": {},
   "outputs": [],
   "source": [
    "phone_book\treturn\n",
    "[\"119\", \"97674223\", \"1195524421\"]\tfalse\n",
    "[\"123\",\"456\",\"789\"]\ttrue\n",
    "[\"12\",\"123\",\"1235\",\"567\",\"88\"]\tfalse"
   ]
  },
  {
   "cell_type": "code",
   "execution_count": 1,
   "id": "5fbf37e0-f50d-4eea-af0a-7b25b32f8975",
   "metadata": {},
   "outputs": [
    {
     "data": {
      "text/plain": [
       "123"
      ]
     },
     "execution_count": 1,
     "metadata": {},
     "output_type": "execute_result"
    }
   ],
   "source": [
    "int(\"123\")"
   ]
  },
  {
   "cell_type": "code",
   "execution_count": null,
   "id": "7a949876-54f4-4de5-9f1a-a5e98f7ea67b",
   "metadata": {},
   "outputs": [],
   "source": [
    "def solution(phone_book):\n",
    "    hashDict = {}\n",
    "    phone_book.sort()\n",
    "    \n",
    "    for phone in phone_book:\n",
    "        \n",
    "    \n",
    "    answer = True\n",
    "    return answer"
   ]
  }
 ],
 "metadata": {
  "kernelspec": {
   "display_name": "Python 3 (ipykernel)",
   "language": "python",
   "name": "python3"
  },
  "language_info": {
   "codemirror_mode": {
    "name": "ipython",
    "version": 3
   },
   "file_extension": ".py",
   "mimetype": "text/x-python",
   "name": "python",
   "nbconvert_exporter": "python",
   "pygments_lexer": "ipython3",
   "version": "3.9.18"
  }
 },
 "nbformat": 4,
 "nbformat_minor": 5
}
