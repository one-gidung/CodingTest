{
 "cells": [
  {
   "cell_type": "code",
   "execution_count": null,
   "id": "e9255390-9342-4946-849e-e815dfe60bba",
   "metadata": {},
   "outputs": [],
   "source": [
    "입출력 예\n",
    "genres\tplays\treturn\n",
    "[\"classic\", \"pop\", \"classic\", \"classic\", \"pop\"]\t[500, 600, 150, 800, 2500]\t[4, 1, 3, 0]"
   ]
  },
  {
   "cell_type": "code",
   "execution_count": 112,
   "id": "b88b276b-6c82-4079-8b34-27f0bf32f1c7",
   "metadata": {},
   "outputs": [],
   "source": [
    "def solution(genres, plays):\n",
    "    num_plays = [(i, play) for i, play in enumerate(plays)] # plays를 고유번호와 튜플로 묶어서 리스트로 만들어버림\n",
    "    num_plays = sorted(num_plays, key=(lambda x: (-x[1], x[0])))\n",
    "    \n",
    "    gen_dict = dict()\n",
    "    for i, gen in enumerate(genres):\n",
    "        if gen not in gen_dict:\n",
    "            gen_dict[gen] = plays[i]\n",
    "        else:\n",
    "            gen_dict[gen] += plays[i]\n",
    "    gen_total = sorted(gen_dict.items(), key=(lambda item: -item[1]))\n",
    "\n",
    "    ans = []\n",
    "    for gen, _ in gen_total:\n",
    "        cnt = 0\n",
    "        for num, _ in num_plays:\n",
    "            if genres[num] == gen:\n",
    "                ans.append(num)\n",
    "                cnt += 1\n",
    "            if cnt >= 2: break\n",
    "    return ans"
   ]
  },
  {
   "cell_type": "code",
   "execution_count": 113,
   "id": "06d073b5-e5eb-4599-8092-6290d68c6158",
   "metadata": {},
   "outputs": [
    {
     "data": {
      "text/plain": [
       "[4, 1, 3, 0]"
      ]
     },
     "execution_count": 113,
     "metadata": {},
     "output_type": "execute_result"
    }
   ],
   "source": [
    "solution([\"classic\", \"pop\", \"classic\", \"classic\", \"pop\"], [500, 600, 150, 800, 2500])"
   ]
  }
 ],
 "metadata": {
  "kernelspec": {
   "display_name": "Python 3 (ipykernel)",
   "language": "python",
   "name": "python3"
  },
  "language_info": {
   "codemirror_mode": {
    "name": "ipython",
    "version": 3
   },
   "file_extension": ".py",
   "mimetype": "text/x-python",
   "name": "python",
   "nbconvert_exporter": "python",
   "pygments_lexer": "ipython3",
   "version": "3.9.18"
  }
 },
 "nbformat": 4,
 "nbformat_minor": 5
}
