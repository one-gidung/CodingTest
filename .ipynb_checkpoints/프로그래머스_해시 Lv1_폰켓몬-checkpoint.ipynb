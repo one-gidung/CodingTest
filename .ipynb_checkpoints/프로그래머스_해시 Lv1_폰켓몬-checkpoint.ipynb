{
 "cells": [
  {
   "cell_type": "markdown",
   "id": "a8bd7e13-f7cb-4335-8440-0d188dc6175c",
   "metadata": {},
   "source": [
    "전체 N개 중 N/2개 선택\n",
    "nums는 숫자들이 담긴 리스트(중복허용)\n",
    "선택한 숫자들의 유니크한 값이 가장 많도록 N/2개 선택해야하는 문제\n",
    "출력 결과값은 숫자 종류가 중복되지 않게 가장 많이 선택한 경우, 그 갯수를 출력."
   ]
  },
  {
   "cell_type": "markdown",
   "id": "3c8eadb4-1d8d-47de-a051-5f2660520f17",
   "metadata": {},
   "source": [
    "## 풀이"
   ]
  },
  {
   "cell_type": "code",
   "execution_count": 5,
   "id": "76a4eb21-ee35-4330-96f7-d71e07df7b7e",
   "metadata": {},
   "outputs": [],
   "source": [
    "def solution(nums):\n",
    "    uni = len(set(nums))\n",
    "    maximum = len(nums)/2\n",
    "    answer = int(maximum) if uni >= maximum else uni\n",
    "    return answer"
   ]
  },
  {
   "cell_type": "code",
   "execution_count": 6,
   "id": "e5f031d7-1452-4468-9804-87abb9fa1fa9",
   "metadata": {},
   "outputs": [
    {
     "data": {
      "text/plain": [
       "3"
      ]
     },
     "execution_count": 6,
     "metadata": {},
     "output_type": "execute_result"
    }
   ],
   "source": [
    "solution([3,3,3,2,2,4])"
   ]
  },
  {
   "cell_type": "markdown",
   "id": "81619099-616b-4440-bc2a-4de2f51a9d8e",
   "metadata": {},
   "source": [
    "## 또 다른 풀이"
   ]
  },
  {
   "cell_type": "code",
   "execution_count": 10,
   "id": "f13df587-d34e-4919-adaa-759df1d1bf40",
   "metadata": {},
   "outputs": [],
   "source": [
    "# 아주 간단한 풀이\n",
    "def solution(nums):\n",
    "    return min(len(nums)/2, len(set(nums)))"
   ]
  },
  {
   "cell_type": "code",
   "execution_count": 11,
   "id": "a5adee63-ae45-47d3-adf5-df2533b05132",
   "metadata": {},
   "outputs": [
    {
     "data": {
      "text/plain": [
       "3.0"
      ]
     },
     "execution_count": 11,
     "metadata": {},
     "output_type": "execute_result"
    }
   ],
   "source": [
    "solution([3,3,3,2,2,4])"
   ]
  },
  {
   "cell_type": "code",
   "execution_count": null,
   "id": "0511fcf9-b011-4028-b605-f6dac197596b",
   "metadata": {},
   "outputs": [],
   "source": []
  }
 ],
 "metadata": {
  "kernelspec": {
   "display_name": "Python 3 (ipykernel)",
   "language": "python",
   "name": "python3"
  },
  "language_info": {
   "codemirror_mode": {
    "name": "ipython",
    "version": 3
   },
   "file_extension": ".py",
   "mimetype": "text/x-python",
   "name": "python",
   "nbconvert_exporter": "python",
   "pygments_lexer": "ipython3",
   "version": "3.9.18"
  }
 },
 "nbformat": 4,
 "nbformat_minor": 5
}
