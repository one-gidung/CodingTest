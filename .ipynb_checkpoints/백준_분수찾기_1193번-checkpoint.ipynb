{
 "cells": [
  {
   "cell_type": "code",
   "execution_count": 23,
   "id": "a2472ce8",
   "metadata": {},
   "outputs": [
    {
     "name": "stdout",
     "output_type": "stream",
     "text": [
      "1\n",
      "1/1\n"
     ]
    }
   ],
   "source": [
    "n = int(input())\n",
    "\n",
    "count = 1\n",
    "pre_sum = 1\n",
    "\n",
    "while pre_sum < n:\n",
    "    count += 1\n",
    "    pre_sum += count\n",
    "\n",
    "pre_sum -= count\n",
    "\n",
    "if count % 2 == 0: # 짝수\n",
    "    top = n - pre_sum\n",
    "    bottom = count - top + 1\n",
    "else:\n",
    "    bottom = n - pre_sum\n",
    "    top = count - bottom + 1\n",
    "\n",
    "print(f'{top}/{bottom}')"
   ]
  }
 ],
 "metadata": {
  "kernelspec": {
   "display_name": "Python 3 (ipykernel)",
   "language": "python",
   "name": "python3"
  },
  "language_info": {
   "codemirror_mode": {
    "name": "ipython",
    "version": 3
   },
   "file_extension": ".py",
   "mimetype": "text/x-python",
   "name": "python",
   "nbconvert_exporter": "python",
   "pygments_lexer": "ipython3",
   "version": "3.9.7"
  }
 },
 "nbformat": 4,
 "nbformat_minor": 5
}
