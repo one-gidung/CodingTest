{
 "cells": [
  {
   "cell_type": "code",
   "execution_count": null,
   "id": "a74da23a-4ca0-4e77-903d-5f9be9dff44b",
   "metadata": {},
   "outputs": [],
   "source": [
    "def solution(numbers):\n",
    "    # 문자열로 변환 > 사전적 비교를 위해\n",
    "    numbers = [str(x) for x in numbers]\n",
    "    # numbers = list(map(str, numbers))\n",
    "\n",
    "    # 문자열 비교를 하면 예쁘게 정렬됨 그러나 앞자릿수가 같은 것들은 3이상 곱해야 정확함\n",
    "    # 입력값이 1000 이하이기 때문\n",
    "    # 문자로서의 사전적 비교 후 이어붙였을 때 가장 큰 값순으로 정렬이 되게 됨\n",
    "    numbers.sort(key=lambda x: x*3, reverse=True)\n",
    "    # 문자열끼리 비교할 때는 인덱스를 기준으로 한자릿수씩 비교한다\n",
    "    # 즉 자릿수가 달라서 숫자로서는 더 큰값으로 보일지라도\n",
    "    # 999와 909090 중에선 999가 더 큰 문자열인 셈이다\n",
    "    \n",
    "    # 정렬된 numbers를 이어붙인 뒤 숫자로 변환해 다듬은 후 다시 문자열로 반환\n",
    "    # 전체 input이 0인 경우 그대로 출력하면 0000이 되기 때문\n",
    "    answer = str(int(''.join(numbers)))\n",
    "\n",
    "    return answer"
   ]
  }
 ],
 "metadata": {
  "kernelspec": {
   "display_name": "Python 3 (ipykernel)",
   "language": "python",
   "name": "python3"
  },
  "language_info": {
   "codemirror_mode": {
    "name": "ipython",
    "version": 3
   },
   "file_extension": ".py",
   "mimetype": "text/x-python",
   "name": "python",
   "nbconvert_exporter": "python",
   "pygments_lexer": "ipython3",
   "version": "3.9.18"
  }
 },
 "nbformat": 4,
 "nbformat_minor": 5
}
