{
 "cells": [
  {
   "cell_type": "code",
   "execution_count": null,
   "id": "bd7bb0dc-132d-4907-a319-ecea4d7d99ca",
   "metadata": {},
   "outputs": [],
   "source": [
    "입출력 예\n",
    "numbers\ttarget\treturn\n",
    "[1, 1, 1, 1, 1]\t3\t5\n",
    "[4, 1, 2, 1]\t4\t2"
   ]
  },
  {
   "cell_type": "code",
   "execution_count": null,
   "id": "04c5c233-9b63-497f-8388-7c3187c1c1a5",
   "metadata": {},
   "outputs": [],
   "source": []
  },
  {
   "cell_type": "code",
   "execution_count": null,
   "id": "a6d240e4-ed3c-4642-9de4-aa0a1b5ac956",
   "metadata": {},
   "outputs": [],
   "source": []
  },
  {
   "cell_type": "code",
   "execution_count": null,
   "id": "052e1511-5110-4922-afc4-5af39b7f0fc9",
   "metadata": {},
   "outputs": [],
   "source": []
  },
  {
   "cell_type": "code",
   "execution_count": null,
   "id": "c5c2b0ba-5f83-4ed1-bd48-fed9335a6e36",
   "metadata": {},
   "outputs": [],
   "source": []
  }
 ],
 "metadata": {
  "kernelspec": {
   "display_name": "Python 3 (ipykernel)",
   "language": "python",
   "name": "python3"
  },
  "language_info": {
   "codemirror_mode": {
    "name": "ipython",
    "version": 3
   },
   "file_extension": ".py",
   "mimetype": "text/x-python",
   "name": "python",
   "nbconvert_exporter": "python",
   "pygments_lexer": "ipython3",
   "version": "3.9.18"
  }
 },
 "nbformat": 4,
 "nbformat_minor": 5
}
