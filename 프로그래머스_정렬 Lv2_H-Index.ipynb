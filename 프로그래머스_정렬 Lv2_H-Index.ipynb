{
 "cells": [
  {
   "cell_type": "code",
   "execution_count": null,
   "id": "87758a75-42bf-407b-82fc-c2713d75f018",
   "metadata": {},
   "outputs": [],
   "source": [
    "def solution(citations):\n",
    "    \n",
    "    answer = 0\n",
    "    \n",
    "    # 역정렬\n",
    "    revCit = sorted(citations, reverse=True)\n",
    "    \n",
    "    # 1. 순차비교\n",
    "    for i in range(len(revCit)):\n",
    "        if (i+1) <= revCit[i]:\n",
    "            answer += 1\n",
    "    \n",
    "    return answer"
   ]
  }
 ],
 "metadata": {
  "kernelspec": {
   "display_name": "Python 3 (ipykernel)",
   "language": "python",
   "name": "python3"
  },
  "language_info": {
   "codemirror_mode": {
    "name": "ipython",
    "version": 3
   },
   "file_extension": ".py",
   "mimetype": "text/x-python",
   "name": "python",
   "nbconvert_exporter": "python",
   "pygments_lexer": "ipython3",
   "version": "3.9.18"
  }
 },
 "nbformat": 4,
 "nbformat_minor": 5
}
