{
 "cells": [
  {
   "cell_type": "code",
   "execution_count": null,
   "id": "a31a2534-d6cd-40fe-803b-1ca088dcd431",
   "metadata": {},
   "outputs": [],
   "source": [
    "입출력 예\n",
    "clothes\treturn\n",
    "[[\"yellow_hat\", \"headgear\"], [\"blue_sunglasses\", \"eyewear\"], [\"green_turban\", \"headgear\"]]\t5\n",
    "[[\"crow_mask\", \"face\"], [\"blue_sunglasses\", \"face\"], [\"smoky_makeup\", \"face\"]]\t3"
   ]
  },
  {
   "cell_type": "markdown",
   "id": "cc533b41-7271-428a-98d6-5339a5d498ff",
   "metadata": {},
   "source": [
    "## 방법1: Counter 내장함수 사용, Counter.most_common() 메서드 사용"
   ]
  },
  {
   "cell_type": "code",
   "execution_count": 74,
   "id": "ffa5ddb8-0b2b-40e2-af39-fc62e73bca71",
   "metadata": {},
   "outputs": [],
   "source": [
    "def solution(clothes):\n",
    "    temp = [ i[1] for i in clothes ]\n",
    "\n",
    "    from collections import Counter\n",
    "    cnt = Counter(temp)\n",
    "    \n",
    "    # Counter 객체에다가 most_common()메서드를 사용하면 key-value가 tuple 쌍으로 이루어진 list가 반환된다 \n",
    "    # (이 list는 iterable하다)\n",
    "    ans = 1\n",
    "    for i in cnt.most_common():\n",
    "        ans *= (i[1]+1)\n",
    "    ans -= 1\n",
    "    # 모든 조합의 수, 종류별로 0개의 옷을 입을 수 있으나 아예 아무것도 안 입는 것은 불가\n",
    "    # 예시: (상의갯수+1)*(하의갯수+1) - 1\n",
    "    # 안입는경우의수도 추가 = 모든 의상 종류별 갯수 + 1\n",
    "    # -1 = 전체 경우에서 아예 아무것도 안 입은 경우 제외\n",
    "    # 즉 (a+1)(b+1)(c+1) - 1\n",
    "    \n",
    "    return ans"
   ]
  },
  {
   "cell_type": "code",
   "execution_count": 75,
   "id": "3bc03ad4-ff3a-4f2b-9f33-9e896f467f1f",
   "metadata": {},
   "outputs": [
    {
     "data": {
      "text/plain": [
       "3"
      ]
     },
     "execution_count": 75,
     "metadata": {},
     "output_type": "execute_result"
    }
   ],
   "source": [
    "solution([[\"crow_mask\", \"face\"], [\"blue_sunglasses\", \"face\"], [\"smoky_makeup\", \"face\"]])"
   ]
  },
  {
   "cell_type": "code",
   "execution_count": 76,
   "id": "042038fa-7f5b-43f3-a2d4-d86ad76f80f1",
   "metadata": {},
   "outputs": [
    {
     "data": {
      "text/plain": [
       "5"
      ]
     },
     "execution_count": 76,
     "metadata": {},
     "output_type": "execute_result"
    }
   ],
   "source": [
    "solution([[\"yellow_hat\", \"headgear\"], [\"blue_sunglasses\", \"eyewear\"], [\"green_turban\", \"headgear\"]])"
   ]
  },
  {
   "cell_type": "markdown",
   "id": "967ca55b-18db-47af-a15e-63c0b4b570ce",
   "metadata": {},
   "source": [
    "## 방법 2: Counter, reduce 사용"
   ]
  },
  {
   "cell_type": "code",
   "execution_count": 79,
   "id": "f780bb2b-885f-4429-a4c5-e39072f68dc7",
   "metadata": {},
   "outputs": [],
   "source": [
    "def solution(clothes):\n",
    "    \n",
    "    from collections import Counter\n",
    "    counter = Counter([kind for clothe, kind in clothes])\n",
    "\n",
    "    from functools import reduce\n",
    "    results = reduce(lambda acc, cur: acc*(cur+1), counter.values(), 1) - 1\n",
    "\n",
    "    return results"
   ]
  },
  {
   "cell_type": "code",
   "execution_count": 80,
   "id": "f46b6000-dd7c-4496-aedc-356004a6569a",
   "metadata": {},
   "outputs": [
    {
     "data": {
      "text/plain": [
       "3"
      ]
     },
     "execution_count": 80,
     "metadata": {},
     "output_type": "execute_result"
    }
   ],
   "source": [
    "solution([[\"crow_mask\", \"face\"], [\"blue_sunglasses\", \"face\"], [\"smoky_makeup\", \"face\"]])"
   ]
  },
  {
   "cell_type": "code",
   "execution_count": 81,
   "id": "d284e3dc-cafc-4802-9cf3-8f5f0a1e1d27",
   "metadata": {},
   "outputs": [
    {
     "data": {
      "text/plain": [
       "5"
      ]
     },
     "execution_count": 81,
     "metadata": {},
     "output_type": "execute_result"
    }
   ],
   "source": [
    "solution([[\"yellow_hat\", \"headgear\"], [\"blue_sunglasses\", \"eyewear\"], [\"green_turban\", \"headgear\"]])"
   ]
  },
  {
   "cell_type": "markdown",
   "id": "95e9d523-9a15-460d-9096-c939db89c3a4",
   "metadata": {},
   "source": [
    "## HashMap 사용, dict로 hashmap 구현 후 hashMap.get() 메서드 사용"
   ]
  },
  {
   "cell_type": "code",
   "execution_count": 3,
   "id": "bc940d90-66da-432f-9905-5297c798cfe9",
   "metadata": {},
   "outputs": [],
   "source": [
    "def solution(clothes):\n",
    "    hashMap = {}\n",
    "\n",
    "    for clothe, kind in clothes:\n",
    "        hashMap[kind] = hashMap.get(kind, 0) + 1\n",
    "\n",
    "    ans = 1\n",
    "    for kind in hashMap:\n",
    "        ans *= (hashMap[kind] + 1)\n",
    "\n",
    "    return ans - 1"
   ]
  },
  {
   "cell_type": "code",
   "execution_count": 4,
   "id": "3f965929-aaf4-4a93-bbac-34292cb45076",
   "metadata": {},
   "outputs": [
    {
     "data": {
      "text/plain": [
       "3"
      ]
     },
     "execution_count": 4,
     "metadata": {},
     "output_type": "execute_result"
    }
   ],
   "source": [
    "solution([[\"crow_mask\", \"face\"], [\"blue_sunglasses\", \"face\"], [\"smoky_makeup\", \"face\"]])"
   ]
  },
  {
   "cell_type": "code",
   "execution_count": 5,
   "id": "3e861b75-99cc-48f6-b00b-064c7e27935a",
   "metadata": {},
   "outputs": [
    {
     "data": {
      "text/plain": [
       "5"
      ]
     },
     "execution_count": 5,
     "metadata": {},
     "output_type": "execute_result"
    }
   ],
   "source": [
    "solution([[\"yellow_hat\", \"headgear\"], [\"blue_sunglasses\", \"eyewear\"], [\"green_turban\", \"headgear\"]])"
   ]
  },
  {
   "cell_type": "code",
   "execution_count": null,
   "id": "cf4332df-224e-44b6-9a66-539fc8273ea4",
   "metadata": {},
   "outputs": [],
   "source": []
  }
 ],
 "metadata": {
  "kernelspec": {
   "display_name": "Python 3 (ipykernel)",
   "language": "python",
   "name": "python3"
  },
  "language_info": {
   "codemirror_mode": {
    "name": "ipython",
    "version": 3
   },
   "file_extension": ".py",
   "mimetype": "text/x-python",
   "name": "python",
   "nbconvert_exporter": "python",
   "pygments_lexer": "ipython3",
   "version": "3.9.18"
  }
 },
 "nbformat": 4,
 "nbformat_minor": 5
}
