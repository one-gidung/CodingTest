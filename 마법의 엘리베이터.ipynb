{
 "cells": [
  {
   "cell_type": "code",
   "execution_count": 124,
   "id": "06caea2e",
   "metadata": {},
   "outputs": [],
   "source": [
    "def solution(storey):\n",
    "    cnt = 0\n",
    "    tmp = len(str(storey))\n",
    "    \n",
    "    for i in range(tmp+1):\n",
    "        a = list(str(storey)[::-1])  # 문자열로 만들어 역순으로 뒤집은 후 리스트로 변환\n",
    "        if storey == 0:\n",
    "            break\n",
    "        if a[i] == '0':\n",
    "            if i == (len(a)-2):\n",
    "                storey = storey - 10**(i+1)\n",
    "                cnt += 1\n",
    "            pass\n",
    "    \n",
    "        elif a[i] in ['1', '2', '3', '4']:\n",
    "            storey = storey - int(a[i])*10**i\n",
    "            cnt += int(a[i])       # 마법의 돌 사용\n",
    "        \n",
    "        elif a[i] in ['6', '7', '8', '9']:\n",
    "            storey = storey + (10-int(a[i]))*10**i\n",
    "            cnt += (10-int(a[i]))  # 마법의 돌 사용\n",
    "\n",
    "        else: # 5일 때\n",
    "            if i == (len(a)-1):\n",
    "                storey = storey - 5*10**i\n",
    "                cnt += 5\n",
    "            elif a[i+1] in ['0', '1', '2', '3', '4']: # 그 다음 수가 01234 이면\n",
    "                storey = storey - 5*10**i\n",
    "                cnt += 5\n",
    "            elif a[i+1] in ['5', '6', '7', '8', '9']: # 그 다음 수가 56789 이면\n",
    "                storey = storey + 5*10**i\n",
    "                cnt += 5  # 마법의 돌 사용\n",
    "            else:\n",
    "                pass\n",
    "            \n",
    "    answer = cnt\n",
    "    return answer"
   ]
  },
  {
   "cell_type": "code",
   "execution_count": 131,
   "id": "2cfd581f",
   "metadata": {},
   "outputs": [
    {
     "data": {
      "text/plain": [
       "11"
      ]
     },
     "execution_count": 131,
     "metadata": {},
     "output_type": "execute_result"
    }
   ],
   "source": [
    "solution(155)"
   ]
  },
  {
   "cell_type": "code",
   "execution_count": 123,
   "id": "8ef1f3b9",
   "metadata": {},
   "outputs": [
    {
     "name": "stdout",
     "output_type": "stream",
     "text": [
      "in 6789 0번째 (650, ['6', '4', '6'], 4)\n",
      "it's 5555 1번째 (700, ['0', '5', '6'], 9)\n",
      "in 6789 2번째 (1000, ['0', '0', '7'], 12)\n",
      "in 1234 3번째 (0, ['0', '0', '0', '1'], 13)\n",
      "0 13\n"
     ]
    }
   ],
   "source": [
    "storey = 646\n",
    "\n",
    "cnt = 0\n",
    "a = list(str(storey)[::-1]) # 문자열로 만들어 역순으로 뒤집은 후 리스트로 변환\n",
    "\n",
    "\n",
    "for i in range(len(a)+1):\n",
    "    a = list(str(storey)[::-1])\n",
    "    if storey == 0:\n",
    "        break\n",
    "    if a[i] == '0':\n",
    "        print(f\"0, {i}번째 {storey, a, cnt}\")\n",
    "        \n",
    "        if i == (len(a)-2):\n",
    "            print('last 0')\n",
    "            storey = storey - 10**(i+1)\n",
    "            cnt += 1\n",
    "        pass\n",
    "    \n",
    "    elif a[i] in ['1', '2', '3', '4']:\n",
    "        \n",
    "        storey = storey - int(a[i])*10**i\n",
    "        cnt += int(a[i])       # 마법의 돌 사용\n",
    "        print(f'1234, {i}번째 {storey, a, cnt}')\n",
    "        \n",
    "    elif a[i] in ['6', '7', '8', '9']:\n",
    "        \n",
    "        storey = storey + (10-int(a[i]))*10**i\n",
    "        cnt += (10-int(a[i]))  # 마법의 돌 사용\n",
    "        print(f'6789, {i}번째 {storey, a, cnt}')\n",
    "\n",
    "        \n",
    "    else: # 5일 때\n",
    "        if i == (len(a)-1):\n",
    "            storey = storey - 5*10**i\n",
    "            cnt += 5\n",
    "        elif a[i+1] in ['0', '1', '2', '3', '4']:\n",
    "            storey = storey - 5*10**i\n",
    "            cnt += 5\n",
    "            print(f\"5, {i}번째 {storey, a, cnt}\")\n",
    "        elif a[i+1] in ['5', '6', '7', '8', '9']: # in 56789\n",
    "            storey = storey + 5*10**i\n",
    "            cnt += 5  # 마법의 돌 사용\n",
    "            print(f\"5, {i}번째 {storey, a, cnt}\")\n",
    "        else:\n",
    "            pass\n",
    "        \n",
    "print(storey, cnt)"
   ]
  },
  {
   "cell_type": "code",
   "execution_count": 90,
   "id": "8744b839",
   "metadata": {},
   "outputs": [
    {
     "data": {
      "text/plain": [
       "1"
      ]
     },
     "execution_count": 90,
     "metadata": {},
     "output_type": "execute_result"
    }
   ],
   "source": [
    "a = 0\n",
    "len('0')"
   ]
  },
  {
   "cell_type": "code",
   "execution_count": null,
   "id": "a657cb07",
   "metadata": {},
   "outputs": [],
   "source": []
  }
 ],
 "metadata": {
  "kernelspec": {
   "display_name": "Python 3 (ipykernel)",
   "language": "python",
   "name": "python3"
  },
  "language_info": {
   "codemirror_mode": {
    "name": "ipython",
    "version": 3
   },
   "file_extension": ".py",
   "mimetype": "text/x-python",
   "name": "python",
   "nbconvert_exporter": "python",
   "pygments_lexer": "ipython3",
   "version": "3.9.13"
  }
 },
 "nbformat": 4,
 "nbformat_minor": 5
}
