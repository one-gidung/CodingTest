{
 "cells": [
  {
   "cell_type": "markdown",
   "id": "f7a7b353-da38-45b5-8608-dc4d302d0214",
   "metadata": {},
   "source": [
    "[\"leo\", \"kiki\", \"eden\"]\t[\"eden\", \"kiki\"]\t\"leo\"\n",
    "[\"marina\", \"josipa\", \"nikola\", \"vinko\", \"filipa\"]\t[\"josipa\", \"filipa\", \"marina\", \"nikola\"]\t\"vinko\"\n",
    "[\"mislav\", \"stanko\", \"mislav\", \"ana\"]\t[\"stanko\", \"ana\", \"mislav\"]\t\"mislav\""
   ]
  },
  {
   "cell_type": "markdown",
   "id": "4e40a776-b205-4428-a5e9-fd3ccd6493fa",
   "metadata": {},
   "source": [
    "## 방법1: list의 메서드인 .sort() 사용"
   ]
  },
  {
   "cell_type": "code",
   "execution_count": 5,
   "id": "bd6b52fd-0b85-44db-8935-2e82d748142a",
   "metadata": {},
   "outputs": [],
   "source": [
    "def solution(participant, completion):\n",
    "    participant.sort()\n",
    "    completion.sort()\n",
    "\n",
    "    for i in range(len(completion)):\n",
    "        if participant[i] != completion[i]:\n",
    "            return participant[i]\n",
    "    return participant[-1]"
   ]
  },
  {
   "cell_type": "code",
   "execution_count": 6,
   "id": "f9d76345-47ca-4fa0-94e1-8677fc507a3d",
   "metadata": {},
   "outputs": [
    {
     "data": {
      "text/plain": [
       "'leo'"
      ]
     },
     "execution_count": 6,
     "metadata": {},
     "output_type": "execute_result"
    }
   ],
   "source": [
    "solution([\"leo\", \"kiki\", \"eden\"], [\"eden\", \"kiki\"])"
   ]
  },
  {
   "cell_type": "markdown",
   "id": "d1387169-ccf9-4caa-b80a-09de8336a078",
   "metadata": {},
   "source": [
    "## 방법2: dict() 함수(or {}) 사용해서 HashMap 만들어 사용"
   ]
  },
  {
   "cell_type": "code",
   "execution_count": 7,
   "id": "e71afb3f-9092-4c5f-97a3-3dbb3d383c91",
   "metadata": {},
   "outputs": [],
   "source": [
    "def solution(participant, completion):\n",
    "    hashDict = {}\n",
    "    sumHash = 0\n",
    "\n",
    "    for part in participant:\n",
    "        hashDict[hash(part)] = part\n",
    "        sumHash += hash(part)\n",
    "\n",
    "    for comp in completion:\n",
    "        sumHash -= hash(comp)\n",
    "\n",
    "    return hashDict[sumHash]"
   ]
  },
  {
   "cell_type": "code",
   "execution_count": 8,
   "id": "6704c7f0-addf-488e-bd60-cb371c3d773d",
   "metadata": {},
   "outputs": [
    {
     "data": {
      "text/plain": [
       "'leo'"
      ]
     },
     "execution_count": 8,
     "metadata": {},
     "output_type": "execute_result"
    }
   ],
   "source": [
    "solution([\"leo\", \"kiki\", \"eden\"], [\"eden\", \"kiki\"])"
   ]
  },
  {
   "cell_type": "markdown",
   "id": "4f6b9198-1150-465b-9bff-097fa2320a82",
   "metadata": {},
   "source": [
    "## 방법3: collections 모듈의 Counter 함수 사용"
   ]
  },
  {
   "cell_type": "code",
   "execution_count": 3,
   "id": "67362ea3-54a2-46de-b203-b3414173af06",
   "metadata": {},
   "outputs": [],
   "source": [
    "def solution(participant, completion):\n",
    "    from collections import Counter\n",
    "    ans = Counter(participant) - Counter(completion)\n",
    "    return list(ans.keys())[0]"
   ]
  },
  {
   "cell_type": "code",
   "execution_count": 4,
   "id": "86f9f4c8-b673-4555-90e4-6e88ce8463a6",
   "metadata": {},
   "outputs": [
    {
     "data": {
      "text/plain": [
       "'leo'"
      ]
     },
     "execution_count": 4,
     "metadata": {},
     "output_type": "execute_result"
    }
   ],
   "source": [
    "solution([\"leo\", \"kiki\", \"eden\"], [\"eden\", \"kiki\"])"
   ]
  }
 ],
 "metadata": {
  "kernelspec": {
   "display_name": "Python 3 (ipykernel)",
   "language": "python",
   "name": "python3"
  },
  "language_info": {
   "codemirror_mode": {
    "name": "ipython",
    "version": 3
   },
   "file_extension": ".py",
   "mimetype": "text/x-python",
   "name": "python",
   "nbconvert_exporter": "python",
   "pygments_lexer": "ipython3",
   "version": "3.9.18"
  }
 },
 "nbformat": 4,
 "nbformat_minor": 5
}
