{
 "cells": [
  {
   "cell_type": "markdown",
   "id": "404cc45f",
   "metadata": {},
   "source": [
    "예제 입력 1 예제 출력 1 \\\n",
    "55-50+40       -35\\\n",
    "\\\n",
    "예제 입력 2 예제 출력 2 \\\n",
    "10+20+30+40    100\\\n",
    "\\\n",
    "예제 입력 3 예제 출력 3 \\\n",
    "00009-00009    0"
   ]
  },
  {
   "cell_type": "code",
   "execution_count": 11,
   "id": "bb79b17d",
   "metadata": {},
   "outputs": [
    {
     "name": "stdout",
     "output_type": "stream",
     "text": [
      "55-50+40\n"
     ]
    },
    {
     "ename": "IndexError",
     "evalue": "list index out of range",
     "output_type": "error",
     "traceback": [
      "\u001b[1;31m---------------------------------------------------------------------------\u001b[0m",
      "\u001b[1;31mIndexError\u001b[0m                                Traceback (most recent call last)",
      "\u001b[1;32m~\\AppData\\Local\\Temp\\ipykernel_17352\\942478527.py\u001b[0m in \u001b[0;36m<module>\u001b[1;34m\u001b[0m\n\u001b[0;32m     20\u001b[0m \u001b[1;33m\u001b[0m\u001b[0m\n\u001b[0;32m     21\u001b[0m     \u001b[0mprint\u001b[0m\u001b[1;33m(\u001b[0m\u001b[0mans\u001b[0m\u001b[1;33m)\u001b[0m\u001b[1;33m\u001b[0m\u001b[1;33m\u001b[0m\u001b[0m\n\u001b[1;32m---> 22\u001b[1;33m \u001b[0moperator\u001b[0m\u001b[1;33m(\u001b[0m\u001b[0moper\u001b[0m\u001b[1;33m,\u001b[0m \u001b[0mnums\u001b[0m\u001b[1;33m)\u001b[0m\u001b[1;33m\u001b[0m\u001b[1;33m\u001b[0m\u001b[0m\n\u001b[0m",
      "\u001b[1;32m~\\AppData\\Local\\Temp\\ipykernel_17352\\942478527.py\u001b[0m in \u001b[0;36moperator\u001b[1;34m(nums, oper)\u001b[0m\n\u001b[0;32m     16\u001b[0m             \u001b[0moperator\u001b[0m\u001b[1;33m(\u001b[0m\u001b[0mnums\u001b[0m\u001b[1;33m[\u001b[0m\u001b[0mi\u001b[0m\u001b[1;33m+\u001b[0m\u001b[1;36m1\u001b[0m\u001b[1;33m:\u001b[0m\u001b[1;33m]\u001b[0m\u001b[1;33m,\u001b[0m \u001b[0moper\u001b[0m\u001b[1;33m[\u001b[0m\u001b[0mi\u001b[0m\u001b[1;33m+\u001b[0m\u001b[1;36m1\u001b[0m\u001b[1;33m]\u001b[0m\u001b[1;33m)\u001b[0m\u001b[1;33m\u001b[0m\u001b[1;33m\u001b[0m\u001b[0m\n\u001b[0;32m     17\u001b[0m         \u001b[1;32melse\u001b[0m\u001b[1;33m:\u001b[0m \u001b[1;31m# oper[i] == '+'\u001b[0m\u001b[1;33m\u001b[0m\u001b[1;33m\u001b[0m\u001b[0m\n\u001b[1;32m---> 18\u001b[1;33m             \u001b[0mans\u001b[0m \u001b[1;33m+=\u001b[0m \u001b[0mnums\u001b[0m\u001b[1;33m[\u001b[0m\u001b[0mi\u001b[0m\u001b[1;33m+\u001b[0m\u001b[1;36m1\u001b[0m\u001b[1;33m]\u001b[0m\u001b[1;33m\u001b[0m\u001b[1;33m\u001b[0m\u001b[0m\n\u001b[0m\u001b[0;32m     19\u001b[0m \u001b[1;33m\u001b[0m\u001b[0m\n\u001b[0;32m     20\u001b[0m \u001b[1;33m\u001b[0m\u001b[0m\n",
      "\u001b[1;31mIndexError\u001b[0m: list index out of range"
     ]
    }
   ],
   "source": [
    "import re\n",
    "exp = input()\n",
    "\n",
    "oper = re.sub('[0-9]', ' ', exp).split()\n",
    "nums = list(map(int, re.sub('[+|-]', ' ', exp).split()))\n",
    "\n",
    "def operator(nums, oper):\n",
    "    \n",
    "    ans = nums[0]\n",
    "    for i in range(len(oper)):\n",
    "    \n",
    "        if oper[i] == '-' and i != len(oper)-1:\n",
    "            # 그 다음 -부호를 만나기 전까지 쭉 괄호=다시 operator과정 들어가면 됨.\n",
    "            # 근데 지금 이게 마지막 연산자면?\n",
    "            tmp = nums[i+1:]\n",
    "            operator(nums[i+1:], oper[i+1])\n",
    "        else: # oper[i] == '+'\n",
    "            ans += nums[i+1]\n",
    "        \n",
    "\n",
    "    print(ans)\n",
    "operator(oper, nums)"
   ]
  },
  {
   "cell_type": "code",
   "execution_count": null,
   "id": "35cd0f57",
   "metadata": {},
   "outputs": [],
   "source": []
  }
 ],
 "metadata": {
  "kernelspec": {
   "display_name": "Python 3 (ipykernel)",
   "language": "python",
   "name": "python3"
  },
  "language_info": {
   "codemirror_mode": {
    "name": "ipython",
    "version": 3
   },
   "file_extension": ".py",
   "mimetype": "text/x-python",
   "name": "python",
   "nbconvert_exporter": "python",
   "pygments_lexer": "ipython3",
   "version": "3.9.13"
  }
 },
 "nbformat": 4,
 "nbformat_minor": 5
}
