{
 "cells": [
  {
   "cell_type": "code",
   "execution_count": 23,
   "id": "319562dd",
   "metadata": {},
   "outputs": [
    {
     "name": "stdout",
     "output_type": "stream",
     "text": [
      "6\n",
      "10\n"
     ]
    }
   ],
   "source": [
    "t = int(input())\n",
    "k, n = [], []\n",
    "for i in range(t):\n",
    "    k.append(int(input()))\n",
    "    n.append(int(input()))\n",
    "\n",
    "\n",
    "def DP(k, n):\n",
    "    # 0층은 정해져있다 b호에 b명이 산다.\n",
    "    # 1층부터는 리스트 합을 써야할 듯\n",
    "    \n",
    "    num = 0 # \n",
    "    num_list = [i for i in range(1, n+1)] # 0층\n",
    "    \n",
    "    for i in range(k):\n",
    "        tmp = []\n",
    "        for j in  range(n):\n",
    "            \n",
    "            \n",
    "            if j == 0:\n",
    "                num = num_list[0]\n",
    "            else:\n",
    "                num = tmp[-1]+num_list[j]\n",
    "            tmp.append(num)\n",
    "#             print(tmp)\n",
    "            \n",
    "            \n",
    "        num_list = tmp\n",
    "    print(num_list[-1])\n",
    "        \n",
    "        \n",
    "# 결과 출력\n",
    "for i in range(t):\n",
    "    DP(k[i], n[i])"
   ]
  }
 ],
 "metadata": {
  "kernelspec": {
   "display_name": "Python 3 (ipykernel)",
   "language": "python",
   "name": "python3"
  },
  "language_info": {
   "codemirror_mode": {
    "name": "ipython",
    "version": 3
   },
   "file_extension": ".py",
   "mimetype": "text/x-python",
   "name": "python",
   "nbconvert_exporter": "python",
   "pygments_lexer": "ipython3",
   "version": "3.9.13"
  }
 },
 "nbformat": 4,
 "nbformat_minor": 5
}
