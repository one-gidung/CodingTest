{
 "cells": [
  {
   "cell_type": "code",
   "execution_count": null,
   "id": "e9255390-9342-4946-849e-e815dfe60bba",
   "metadata": {},
   "outputs": [],
   "source": [
    "입출력 예\n",
    "genres\tplays\treturn\n",
    "[\"classic\", \"pop\", \"classic\", \"classic\", \"pop\"]\t[500, 600, 150, 800, 2500]\t[4, 1, 3, 0]"
   ]
  },
  {
   "cell_type": "code",
   "execution_count": 43,
   "id": "5c92916f-8d31-46e6-aad5-0825f38fe7a4",
   "metadata": {},
   "outputs": [],
   "source": [
    "def solution(genres, plays):\n",
    "    # key: 장르\n",
    "    # value: 재생횟수\n",
    "    g_hash = dict()\n",
    "    for i, gen in enumerate(genres):\n",
    "        print(i, gen)\n",
    "        if gen not in g_hash:\n",
    "            g_hash[gen] = plays[i]\n",
    "        else:\n",
    "            g_hash[gen] += plays[i]\n",
    "\n",
    "    g_hash = sorted(g_hash, key=lambda )\n",
    "    print(g_hash)\n",
    "\n",
    "    answer = []\n",
    "    return answer"
   ]
  },
  {
   "cell_type": "code",
   "execution_count": 44,
   "id": "33c1bc14-9a59-406d-8c74-4c16653edc6e",
   "metadata": {},
   "outputs": [
    {
     "name": "stdout",
     "output_type": "stream",
     "text": [
      "0 classic\n",
      "1 pop\n",
      "2 classic\n",
      "3 classic\n",
      "4 pop\n",
      "{'classic': 1450, 'pop': 3100}\n"
     ]
    },
    {
     "data": {
      "text/plain": [
       "[]"
      ]
     },
     "execution_count": 44,
     "metadata": {},
     "output_type": "execute_result"
    }
   ],
   "source": [
    "solution([\"classic\", \"pop\", \"classic\", \"classic\", \"pop\"], [500, 600, 150, 800, 2500])"
   ]
  },
  {
   "cell_type": "code",
   "execution_count": 1,
   "id": "c3b8463d-aed7-4f03-abb1-549e4cfdb1de",
   "metadata": {},
   "outputs": [],
   "source": [
    "genres = [\"classic\", \"pop\", \"classic\", \"classic\", \"pop\"]\n",
    "plays = [500, 600, 150, 800, 2500]"
   ]
  },
  {
   "cell_type": "code",
   "execution_count": null,
   "id": "4e11c920-4341-4f8f-83c9-9139c4974158",
   "metadata": {},
   "outputs": [],
   "source": []
  },
  {
   "cell_type": "code",
   "execution_count": 7,
   "id": "99b943b2-b7ef-489f-975d-f46102d19570",
   "metadata": {},
   "outputs": [
    {
     "data": {
      "text/plain": [
       "Counter({'classic': 3, 'pop': 2})"
      ]
     },
     "execution_count": 7,
     "metadata": {},
     "output_type": "execute_result"
    }
   ],
   "source": [
    "from collections import Counter\n",
    "Counter(genres)"
   ]
  },
  {
   "cell_type": "code",
   "execution_count": null,
   "id": "21038022-07b2-48d4-82f3-e354edeb80cd",
   "metadata": {},
   "outputs": [],
   "source": []
  },
  {
   "cell_type": "code",
   "execution_count": null,
   "id": "c2f8e0ca-5922-43fb-9add-148e7c235faa",
   "metadata": {},
   "outputs": [],
   "source": []
  },
  {
   "cell_type": "code",
   "execution_count": null,
   "id": "1cdcba5a-76e9-4416-9647-a721da9bbe5a",
   "metadata": {},
   "outputs": [],
   "source": []
  },
  {
   "cell_type": "code",
   "execution_count": null,
   "id": "dd513373-033f-476f-9789-4254f479f056",
   "metadata": {},
   "outputs": [],
   "source": []
  },
  {
   "cell_type": "code",
   "execution_count": null,
   "id": "702a05aa-d52c-47e8-9eaf-2c66be144990",
   "metadata": {},
   "outputs": [],
   "source": []
  },
  {
   "cell_type": "code",
   "execution_count": null,
   "id": "4925ba3d-dc68-45f4-bb13-aebe8f3afa8c",
   "metadata": {},
   "outputs": [],
   "source": []
  },
  {
   "cell_type": "code",
   "execution_count": null,
   "id": "fa6ed651-20c2-4ba2-9e93-e8fb4f8c6658",
   "metadata": {},
   "outputs": [],
   "source": []
  },
  {
   "cell_type": "code",
   "execution_count": null,
   "id": "b88b276b-6c82-4079-8b34-27f0bf32f1c7",
   "metadata": {},
   "outputs": [],
   "source": []
  }
 ],
 "metadata": {
  "kernelspec": {
   "display_name": "Python 3 (ipykernel)",
   "language": "python",
   "name": "python3"
  },
  "language_info": {
   "codemirror_mode": {
    "name": "ipython",
    "version": 3
   },
   "file_extension": ".py",
   "mimetype": "text/x-python",
   "name": "python",
   "nbconvert_exporter": "python",
   "pygments_lexer": "ipython3",
   "version": "3.9.18"
  }
 },
 "nbformat": 4,
 "nbformat_minor": 5
}
