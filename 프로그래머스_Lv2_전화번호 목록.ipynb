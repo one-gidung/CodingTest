{
 "cells": [
  {
   "cell_type": "code",
   "execution_count": null,
   "id": "6f463b63-2f19-4535-b1b7-72a6af726e80",
   "metadata": {},
   "outputs": [],
   "source": [
    "# 테스트 케이스\n",
    "# phone_book\treturn\n",
    "# [\"119\", \"97674223\", \"1195524421\"]\tfalse\n",
    "# [\"123\",\"456\",\"789\"]\ttrue\n",
    "# [\"12\",\"123\",\"1235\",\"567\",\"88\"]\tfalse"
   ]
  },
  {
   "cell_type": "code",
   "execution_count": 25,
   "id": "6fed385e-0e42-487a-8114-7ea9e698c079",
   "metadata": {},
   "outputs": [
    {
     "name": "stdout",
     "output_type": "stream",
     "text": [
      "['12', '123', '1235', '567', '88']\n"
     ]
    }
   ],
   "source": [
    "temp = [\"12\",\"123\",\"1235\",\"567\",\"88\"]\n",
    "temp.sort()\n",
    "print(temp)"
   ]
  },
  {
   "cell_type": "markdown",
   "id": "6e58b59c-3822-4b25-81bf-2e2e782d02fb",
   "metadata": {},
   "source": [
    "## 방법1: sort 메서드 사용, startswith 메서드 사용"
   ]
  },
  {
   "cell_type": "code",
   "execution_count": 18,
   "id": "7a949876-54f4-4de5-9f1a-a5e98f7ea67b",
   "metadata": {},
   "outputs": [],
   "source": [
    "def solution(phone_book):\n",
    "    phone_book.sort()\n",
    "    \n",
    "    for i in range(len(phone_book)-1):\n",
    "        if phone_book[i+1].startswith(phone_book[i]):\n",
    "            return False\n",
    "    return True"
   ]
  },
  {
   "cell_type": "code",
   "execution_count": 19,
   "id": "f64a1866-dd55-4538-85ae-ad59393ddeb6",
   "metadata": {},
   "outputs": [
    {
     "data": {
      "text/plain": [
       "False"
      ]
     },
     "execution_count": 19,
     "metadata": {},
     "output_type": "execute_result"
    }
   ],
   "source": [
    "solution([\"119\", \"97674223\", \"1195524421\"])"
   ]
  },
  {
   "cell_type": "markdown",
   "id": "ef2c8784-e5ac-4b2e-82a9-5d54d192d57b",
   "metadata": {},
   "source": [
    "## 방법2: sort, zip 사용"
   ]
  },
  {
   "cell_type": "code",
   "execution_count": 21,
   "id": "94028c8f-866a-41d0-8cfb-fe1c3c1ba341",
   "metadata": {},
   "outputs": [],
   "source": [
    "def solution(phone_book):\n",
    "    phone_book.sort()\n",
    "    for p1, p2 in zip(phone_book, phone_book[1:]):\n",
    "        if p2.startswith(p1):\n",
    "            return False\n",
    "    return True"
   ]
  },
  {
   "cell_type": "code",
   "execution_count": 22,
   "id": "07965143-3113-4380-9db2-75ab76922cee",
   "metadata": {},
   "outputs": [
    {
     "data": {
      "text/plain": [
       "False"
      ]
     },
     "execution_count": 22,
     "metadata": {},
     "output_type": "execute_result"
    }
   ],
   "source": [
    "solution([\"119\", \"97674223\", \"1195524421\"])"
   ]
  },
  {
   "cell_type": "markdown",
   "id": "2aa12855-6eb0-43ac-9162-e202176647c5",
   "metadata": {},
   "source": [
    "## 방법2: hash 사용"
   ]
  },
  {
   "cell_type": "code",
   "execution_count": 36,
   "id": "6d4ec568-40cb-410a-a0cb-7788a0d10885",
   "metadata": {},
   "outputs": [],
   "source": [
    "def solution(phone_book):\n",
    "    hashMap = {}\n",
    "    for phone in phone_book:\n",
    "        hashMap[phone] = 1\n",
    "\n",
    "    for phone in phone_book:\n",
    "        temp = \"\"\n",
    "        for num in phone:\n",
    "            temp += num\n",
    "        #   if (temp != phone) & (temp in hashMap):     &는 괄호로 두 비교항을 따로 묶어줘야 비교가 가능.\n",
    "            if temp != phone and temp in hashMap:\n",
    "                return False\n",
    "    return True"
   ]
  },
  {
   "cell_type": "code",
   "execution_count": 37,
   "id": "fa00744a-769c-45e1-ba59-04963533ec4e",
   "metadata": {},
   "outputs": [
    {
     "data": {
      "text/plain": [
       "False"
      ]
     },
     "execution_count": 37,
     "metadata": {},
     "output_type": "execute_result"
    }
   ],
   "source": [
    "solution([\"119\", \"97674223\", \"1195524421\"])"
   ]
  },
  {
   "cell_type": "markdown",
   "id": "c1cb82db-0c2d-41cf-99cd-ffb940923020",
   "metadata": {},
   "source": [
    "### 이중 for문 돌아가는 구조 (위의 temp)"
   ]
  },
  {
   "cell_type": "code",
   "execution_count": 41,
   "id": "ae65c3c8-41c9-4332-9691-fafd9ca380c0",
   "metadata": {},
   "outputs": [
    {
     "name": "stdout",
     "output_type": "stream",
     "text": [
      "1\n",
      "12\n",
      "123\n",
      "4\n",
      "45\n",
      "456\n",
      "7\n",
      "78\n",
      "789\n"
     ]
    }
   ],
   "source": [
    "def solution(phone_book):\n",
    "    hashMap = {}\n",
    "    for phone in phone_book:\n",
    "        hashMap[phone] = 1\n",
    "\n",
    "    for phone in phone_book:\n",
    "        temp = \"\"\n",
    "        for num in phone:\n",
    "            temp += num\n",
    "            print(temp)\n",
    "\n",
    "solution([\"123\",\"456\",\"789\"])"
   ]
  }
 ],
 "metadata": {
  "kernelspec": {
   "display_name": "Python 3 (ipykernel)",
   "language": "python",
   "name": "python3"
  },
  "language_info": {
   "codemirror_mode": {
    "name": "ipython",
    "version": 3
   },
   "file_extension": ".py",
   "mimetype": "text/x-python",
   "name": "python",
   "nbconvert_exporter": "python",
   "pygments_lexer": "ipython3",
   "version": "3.9.18"
  }
 },
 "nbformat": 4,
 "nbformat_minor": 5
}
