{
 "cells": [
  {
   "cell_type": "code",
   "execution_count": null,
   "id": "528829c3-41b7-480d-8b97-345e66666174",
   "metadata": {},
   "outputs": [],
   "source": [
    "def solution(progresses, speeds):\n",
    "    answer = []\n",
    "    \n",
    "    # 1. 리스트컴프리헨션 방법\n",
    "    # leftPro = [100-i for i in progresses]\n",
    "    # leftDay = [leftPro[i] // speeds[i] if leftPro[i] % speeds[i] == 0 \n",
    "    #            else leftPro[i] // speeds[i] + 1 \n",
    "    #            for i in range(len(speeds))]\n",
    "        \n",
    "    # 2. zip을 사용한 방법\n",
    "    # leftDay = []\n",
    "    # for p, s in zip(progresses, speeds):\n",
    "    #     if (100-p)%s == 0:\n",
    "    #         leftDay.append(int((100-p)/s))\n",
    "    #     else:\n",
    "    #         leftDay.append(int((100-p)/s+1))\n",
    "    \n",
    "    # 3. 음수 나누기 방법\n",
    "    leftDay = [-((progresses[i]-100)//speeds[i]) for i in range(len(speeds))]\n",
    "    \n",
    "    \n",
    "    prior = leftDay[0]\n",
    "    tmp = 0\n",
    "    for i in range(len(leftDay)):\n",
    "        if leftDay[i] <= prior: tmp+=1\n",
    "        else:\n",
    "            answer.append(tmp)\n",
    "            prior = leftDay[i]\n",
    "            tmp = 1\n",
    "    answer.append(tmp)\n",
    "    return answer"
   ]
  }
 ],
 "metadata": {
  "kernelspec": {
   "display_name": "Python 3 (ipykernel)",
   "language": "python",
   "name": "python3"
  },
  "language_info": {
   "codemirror_mode": {
    "name": "ipython",
    "version": 3
   },
   "file_extension": ".py",
   "mimetype": "text/x-python",
   "name": "python",
   "nbconvert_exporter": "python",
   "pygments_lexer": "ipython3",
   "version": "3.9.18"
  }
 },
 "nbformat": 4,
 "nbformat_minor": 5
}
