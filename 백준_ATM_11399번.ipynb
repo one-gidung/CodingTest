{
 "cells": [
  {
   "cell_type": "code",
   "execution_count": null,
   "id": "d80ed186",
   "metadata": {},
   "outputs": [],
   "source": [
    "import itertools"
   ]
  },
  {
   "cell_type": "code",
   "execution_count": 22,
   "id": "515195e7",
   "metadata": {},
   "outputs": [
    {
     "name": "stdout",
     "output_type": "stream",
     "text": [
      "1\n",
      "1 2 3 4\n"
     ]
    },
    {
     "data": {
      "text/plain": [
       "10"
      ]
     },
     "execution_count": 22,
     "metadata": {},
     "output_type": "execute_result"
    }
   ],
   "source": [
    "# 메모리 초과 뜸\n",
    "\n",
    "import itertools\n",
    "\n",
    "n = int(input())\n",
    "time = list(map(int, input().split()))\n",
    "\n",
    "a = itertools.permutations(time, len(time))\n",
    "ans = [sum(i) for i in list(a)]\n",
    "\n",
    "min(min(ans))"
   ]
  },
  {
   "cell_type": "markdown",
   "id": "5295960b",
   "metadata": {},
   "source": [
    "sort 사용 가능해서 정렬에 사용함"
   ]
  },
  {
   "cell_type": "code",
   "execution_count": 32,
   "id": "08062996",
   "metadata": {},
   "outputs": [
    {
     "name": "stdout",
     "output_type": "stream",
     "text": [
      "1\n",
      "1 4 3 6\n",
      "27\n"
     ]
    }
   ],
   "source": [
    "# n, time 입력받기\n",
    "n = int(input())\n",
    "time = list(map(int, input().split()))\n",
    "\n",
    "# 작은 수 부터 정렬\n",
    "time.sort()\n",
    "# 누적 합 계산\n",
    "total = 0\n",
    "ans = 0\n",
    "for i in time:\n",
    "    total += i\n",
    "    ans += total\n",
    "\n",
    "print(ans)"
   ]
  }
 ],
 "metadata": {
  "kernelspec": {
   "display_name": "Python 3 (ipykernel)",
   "language": "python",
   "name": "python3"
  },
  "language_info": {
   "codemirror_mode": {
    "name": "ipython",
    "version": 3
   },
   "file_extension": ".py",
   "mimetype": "text/x-python",
   "name": "python",
   "nbconvert_exporter": "python",
   "pygments_lexer": "ipython3",
   "version": "3.9.7"
  }
 },
 "nbformat": 4,
 "nbformat_minor": 5
}
