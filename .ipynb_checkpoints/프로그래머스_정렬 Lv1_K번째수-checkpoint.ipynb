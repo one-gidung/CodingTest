{
 "cells": [
  {
   "cell_type": "code",
   "execution_count": null,
   "id": "89610a31-2fa6-4e3f-a8a9-741ff4c465e8",
   "metadata": {},
   "outputs": [],
   "source": [
    "def solution(array, commands):\n",
    "    answer = []\n",
    "    for i, j, k in commands:\n",
    "        arr = array[i-1:j]\n",
    "        L = len(arr)\n",
    "        for t1 in range(L-1):\n",
    "            for t2 in range(L-t1-1):\n",
    "                if arr[t2]>arr[t2+1]:\n",
    "                    tmp = arr[t2]\n",
    "                    arr[t2] = arr[t2+1]\n",
    "                    arr[t2+1] = tmp\n",
    "        answer.append(arr[k-1])\n",
    "    return answer"
   ]
  }
 ],
 "metadata": {
  "kernelspec": {
   "display_name": "Python 3 (ipykernel)",
   "language": "python",
   "name": "python3"
  },
  "language_info": {
   "codemirror_mode": {
    "name": "ipython",
    "version": 3
   },
   "file_extension": ".py",
   "mimetype": "text/x-python",
   "name": "python",
   "nbconvert_exporter": "python",
   "pygments_lexer": "ipython3",
   "version": "3.9.18"
  }
 },
 "nbformat": 4,
 "nbformat_minor": 5
}
